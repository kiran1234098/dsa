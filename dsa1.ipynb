{
 "cells": [
  {
   "cell_type": "markdown",
   "metadata": {},
   "source": [
    "1. write the program that perform all Arithmetic oprations on two variable"
   ]
  },
  {
   "cell_type": "code",
   "execution_count": 1,
   "metadata": {},
   "outputs": [
    {
     "name": "stdout",
     "output_type": "stream",
     "text": [
      "sum 5\n",
      "minus -1\n",
      "multiple 6\n",
      "divide 0.6666666666666666\n"
     ]
    }
   ],
   "source": [
    "def Arithmetic(a,b):\n",
    "    print(\"sum\",a+b)\n",
    "    print(\"minus\",a-b)\n",
    "    print(\"multiple\",a*b)\n",
    "    print(\"divide\",a/b)\n",
    "\n",
    "a,b=2,3\n",
    "Arithmetic(a,b)    "
   ]
  },
  {
   "cell_type": "markdown",
   "metadata": {},
   "source": [
    "2.write a python program to take Age From the user to check Whether user able to participate in voting or not. if age is less then 18 then it Don't Allow to participate .and show , after how much year a person will be able to participate\n",
    "Expected Result if user input 10 year than :\n",
    "sorry! You cannot participate in votiong ,you will be participate after 8 year"
   ]
  },
  {
   "cell_type": "code",
   "execution_count": 3,
   "metadata": {},
   "outputs": [
    {
     "name": "stdout",
     "output_type": "stream",
     "text": [
      "can give vote\n",
      "sorry! You cannot participate in votiong ,you will be participate after 16 year\n"
     ]
    }
   ],
   "source": [
    "def voting(age):\n",
    "    if age < 18:\n",
    "        print(f\"sorry! You cannot participate in votiong ,you will be participate after {18-age} year\")\n",
    "    else:\n",
    "        print(\"can give vote\")    \n",
    "\n",
    "age =18\n",
    "voting(age)\n",
    "age=2\n",
    "\n",
    "voting(age)\n"
   ]
  },
  {
   "cell_type": "markdown",
   "metadata": {},
   "source": [
    "3.write a program to get Name and age from the user and display name display name and age in this format:\n",
    "Expected result : if name is \"Faisal Zamir\" and age is 25 then:\n",
    "Hi Faisal Zamir! Your age is 25"
   ]
  },
  {
   "cell_type": "code",
   "execution_count": 4,
   "metadata": {},
   "outputs": [
    {
     "name": "stdout",
     "output_type": "stream",
     "text": [
      "Hi Faisal Zamir! Your age is 25\n"
     ]
    }
   ],
   "source": [
    "def NameAge(name,age):\n",
    "    print(f\"Hi {name}! Your age is {age}\")\n",
    "\n",
    "name = \"Faisal Zamir\"\n",
    "age =25\n",
    "NameAge(name,age)    "
   ]
  },
  {
   "cell_type": "code",
   "execution_count": null,
   "metadata": {},
   "outputs": [],
   "source": [
    "4 write a program to calculate the Area of Circle using Formula 3.16*r^2"
   ]
  },
  {
   "cell_type": "code",
   "execution_count": 6,
   "metadata": {},
   "outputs": [
    {
     "name": "stdout",
     "output_type": "stream",
     "text": [
      "area is 79.0\n"
     ]
    }
   ],
   "source": [
    "r=5\n",
    "print(f'area is {3.16*r**2}')"
   ]
  },
  {
   "cell_type": "code",
   "execution_count": null,
   "metadata": {},
   "outputs": [],
   "source": [
    "5.write a program to show such type of Layout of Number and Square.\n",
    "Expected result:\n",
    "Number      Square\n",
    "1           1\n",
    "2           4\n",
    "3           9\n",
    "4           16"
   ]
  },
  {
   "cell_type": "code",
   "execution_count": 11,
   "metadata": {},
   "outputs": [
    {
     "name": "stdout",
     "output_type": "stream",
     "text": [
      "Number          Square\n",
      "1                 2\n",
      "2                 4\n",
      "3                 6\n",
      "4                 8\n",
      "5                 10\n"
     ]
    }
   ],
   "source": [
    "nums = 5\n",
    "print(\"Number          Square\")\n",
    "for i in range(1,6):\n",
    "    print(f\"{i}                 {i*2}\")"
   ]
  },
  {
   "cell_type": "code",
   "execution_count": null,
   "metadata": {},
   "outputs": [],
   "source": []
  }
 ],
 "metadata": {
  "kernelspec": {
   "display_name": "Python 3.8.10 64-bit",
   "language": "python",
   "name": "python3"
  },
  "language_info": {
   "codemirror_mode": {
    "name": "ipython",
    "version": 3
   },
   "file_extension": ".py",
   "mimetype": "text/x-python",
   "name": "python",
   "nbconvert_exporter": "python",
   "pygments_lexer": "ipython3",
   "version": "3.8.10"
  },
  "orig_nbformat": 4,
  "vscode": {
   "interpreter": {
    "hash": "e7370f93d1d0cde622a1f8e1c04877d8463912d04d973331ad4851f04de6915a"
   }
  }
 },
 "nbformat": 4,
 "nbformat_minor": 2
}

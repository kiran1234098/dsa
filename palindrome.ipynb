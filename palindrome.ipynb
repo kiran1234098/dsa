{
  "nbformat": 4,
  "nbformat_minor": 0,
  "metadata": {
    "colab": {
      "provenance": [],
      "authorship_tag": "ABX9TyMQEOppQLYJD5qNEWnUu4/Y",
      "include_colab_link": true
    },
    "kernelspec": {
      "name": "python3",
      "display_name": "Python 3"
    },
    "language_info": {
      "name": "python"
    }
  },
  "cells": [
    {
      "cell_type": "markdown",
      "metadata": {
        "id": "view-in-github",
        "colab_type": "text"
      },
      "source": [
        "<a href=\"https://colab.research.google.com/github/kiran1234098/dsa/blob/main/palindrome.ipynb\" target=\"_parent\"><img src=\"https://colab.research.google.com/assets/colab-badge.svg\" alt=\"Open In Colab\"/></a>"
      ]
    },
    {
      "cell_type": "markdown",
      "source": [
        "#How do you determine if a string is a palindrome?"
      ],
      "metadata": {
        "id": "N0gRJj2I_Mlu"
      }
    },
    {
      "cell_type": "code",
      "execution_count": null,
      "metadata": {
        "colab": {
          "base_uri": "https://localhost:8080/"
        },
        "id": "HSrQN9KA-_G6",
        "outputId": "9588e248-e518-4531-ee06-717595a8c64e"
      },
      "outputs": [
        {
          "output_type": "stream",
          "name": "stdout",
          "text": [
            "palidrom\n"
          ]
        }
      ],
      "source": [
        "pali_c = \"strts\"\n",
        "rev_string = pali_c[::-1]\n",
        "if pali_c == rev_string:\n",
        "  print(\"palidrom\")\n",
        "else:\n",
        "  print(\"not palidrom\")"
      ]
    },
    {
      "cell_type": "code",
      "source": [
        "# simple reverse and compare (O(n) time and O(n) space)\n",
        "def is_palidrom(s):\n",
        "  s = s.lower() # convert to lowercase to ignore capitalization\n",
        "  s = \"\".join(e for e in s if e.isalnum()) # remove non - alphanumaric\n",
        "  return s==s[::-1]\n",
        "\n",
        "p = is_palidrom(\"kira\")\n",
        "print(p)"
      ],
      "metadata": {
        "colab": {
          "base_uri": "https://localhost:8080/"
        },
        "id": "Q2-yehUR_xXW",
        "outputId": "36e27f7d-a2a2-47fd-b02d-7c852f3278e2"
      },
      "execution_count": null,
      "outputs": [
        {
          "output_type": "stream",
          "name": "stdout",
          "text": [
            "False\n"
          ]
        }
      ]
    },
    {
      "cell_type": "code",
      "source": [
        "# two pointer approach (O(n) time and O(1) space)\n",
        "def is_palidrom(s):\n",
        "  s=s.lower() # convert to lowercase to ignore capitalization\n",
        "  s = ''.join(e for e in s if e.isalnum()) # remove non alphanumaric\n",
        "  left ,right = 0,len(s) -1\n",
        "  while left < right:\n",
        "    if s[left] != s[right]:\n",
        "      return False\n",
        "    left +=1\n",
        "    right -=1\n",
        "  return True\n",
        "is_palidrom(\"kir\")"
      ],
      "metadata": {
        "colab": {
          "base_uri": "https://localhost:8080/"
        },
        "id": "LNkLVTkBBSF7",
        "outputId": "131a1369-9529-4987-bb41-69ed8e8342a2"
      },
      "execution_count": null,
      "outputs": [
        {
          "output_type": "execute_result",
          "data": {
            "text/plain": [
              "False"
            ]
          },
          "metadata": {},
          "execution_count": 5
        }
      ]
    },
    {
      "cell_type": "code",
      "source": [
        "# Brute Force (Comparing Characters)\n",
        "def is_palidrome(string):\n",
        "  string = string.lower()\n",
        "  length = len(string)\n",
        "  for i in range(length//2):\n",
        "    if string[i] != string[length -i -1]:\n",
        "      return False\n",
        "    return True"
      ],
      "metadata": {
        "id": "kXKzDvLrCu8_"
      },
      "execution_count": null,
      "outputs": []
    },
    {
      "cell_type": "markdown",
      "source": [
        "Time Complexity: O(n) - Linear time, where n is the length of the string."
      ],
      "metadata": {
        "id": "YkcfGNNEgCi9"
      }
    },
    {
      "cell_type": "code",
      "source": [
        "from collections import deque\n",
        "\n",
        "def is_palidrom(string):\n",
        "  string = string.lower()\n",
        "  char_deque = deque(string)\n",
        "  while len(char_deque) > 1:\n",
        "    if char_deque.popleft() != char_deque.pop():\n",
        "      return False\n",
        "  return True\n",
        "\n",
        "is_palidrom(\"aba\")"
      ],
      "metadata": {
        "colab": {
          "base_uri": "https://localhost:8080/"
        },
        "id": "SXPnuK4Ye_mi",
        "outputId": "b460c113-f59e-4a6e-fc33-e22f33a5a391"
      },
      "execution_count": 1,
      "outputs": [
        {
          "output_type": "execute_result",
          "data": {
            "text/plain": [
              "True"
            ]
          },
          "metadata": {},
          "execution_count": 1
        }
      ]
    },
    {
      "cell_type": "code",
      "source": [
        "# Recursion\n",
        "# complexity o(n)\n",
        "def is_palidrom(string):\n",
        "  string = string.lower()\n",
        "  if len(string)<= 1:\n",
        "    return True\n",
        "  if string[0] != string[-1]:\n",
        "    return False\n",
        "  return is_palidrom(string[1:-1])\n",
        "\n",
        "is_palidrom(\"abc\")"
      ],
      "metadata": {
        "colab": {
          "base_uri": "https://localhost:8080/"
        },
        "id": "TRyOdkPCf4jf",
        "outputId": "60d7112b-77ed-4231-e594-2b3e3356ce52"
      },
      "execution_count": 2,
      "outputs": [
        {
          "output_type": "execute_result",
          "data": {
            "text/plain": [
              "False"
            ]
          },
          "metadata": {},
          "execution_count": 2
        }
      ]
    },
    {
      "cell_type": "code",
      "source": [
        "def is_palidrom(string):\n",
        "  string =string.lower()\n",
        "  stack = []\n",
        "  for char in string:\n",
        "    stack.append(char)\n",
        "  reversed  = ''.join(stack[::-1])\n",
        "  return string == reversed\n",
        "is_palidrom(\"aba\")"
      ],
      "metadata": {
        "colab": {
          "base_uri": "https://localhost:8080/"
        },
        "id": "hFYXspNnhcZt",
        "outputId": "be613444-5491-4d18-e694-a6bc14da6de1"
      },
      "execution_count": 3,
      "outputs": [
        {
          "output_type": "execute_result",
          "data": {
            "text/plain": [
              "True"
            ]
          },
          "metadata": {},
          "execution_count": 3
        }
      ]
    },
    {
      "cell_type": "code",
      "source": [],
      "metadata": {
        "id": "d-WCtfrnifjx"
      },
      "execution_count": null,
      "outputs": []
    }
  ]
}
{
 "cells": [
  {
   "cell_type": "markdown",
   "metadata": {},
   "source": [
    "1. Write a program to calculate union of two set A ={3,2,4,5,6,7,8} \n",
    "B={4,12,5,1,6,8}"
   ]
  },
  {
   "cell_type": "code",
   "execution_count": 5,
   "metadata": {},
   "outputs": [
    {
     "name": "stdout",
     "output_type": "stream",
     "text": [
      "{1, 2, 3, 4, 5, 6, 7, 8, 12}\n"
     ]
    }
   ],
   "source": [
    "A ={3,2,4,5,6,7,8} \n",
    "B={4,12,5,1,6,8}\n",
    "union_set=A.union(B)\n",
    "\n",
    "print(union_set)"
   ]
  },
  {
   "cell_type": "markdown",
   "metadata": {},
   "source": [
    "2.program to calculate intersect of two set \n",
    "a ={5,2,4,6,7,1} b={5,3,11}"
   ]
  },
  {
   "cell_type": "code",
   "execution_count": 7,
   "metadata": {},
   "outputs": [
    {
     "name": "stdout",
     "output_type": "stream",
     "text": [
      "{5}\n"
     ]
    }
   ],
   "source": [
    "a ={5,2,4,6,7,1} \n",
    "b={5,3,11}\n",
    "intersection_set=a.intersection(b)\n",
    "print(intersection_set)"
   ]
  },
  {
   "cell_type": "markdown",
   "metadata": {},
   "source": [
    "3.write a program to calculate difference of two set\n",
    "A={1,12,2,6,7,8} B={15,0,1,3,6}"
   ]
  },
  {
   "cell_type": "code",
   "execution_count": 8,
   "metadata": {},
   "outputs": [
    {
     "name": "stdout",
     "output_type": "stream",
     "text": [
      "{8, 2, 12, 7}\n"
     ]
    }
   ],
   "source": [
    "A={1,12,2,6,7,8}\n",
    "B={15,0,1,3,6}\n",
    "difference_set =A.difference(B)\n",
    "print(difference_set)"
   ]
  },
  {
   "cell_type": "markdown",
   "metadata": {},
   "source": [
    "4.write a program to Get number from user , and Display table for that number"
   ]
  },
  {
   "cell_type": "code",
   "execution_count": 9,
   "metadata": {},
   "outputs": [
    {
     "name": "stdout",
     "output_type": "stream",
     "text": [
      "2\n",
      "4\n",
      "6\n",
      "8\n",
      "10\n",
      "12\n",
      "14\n",
      "16\n",
      "18\n",
      "20\n"
     ]
    }
   ],
   "source": [
    "num= int(input(\"enter a number\"))\n",
    "for i in range(1,11):\n",
    "    print(i*num)"
   ]
  },
  {
   "cell_type": "markdown",
   "metadata": {},
   "source": [
    "5.write a program to get 6 subject marks from the user and calculate total and average of that marks .and displayto user."
   ]
  },
  {
   "cell_type": "code",
   "execution_count": 12,
   "metadata": {},
   "outputs": [
    {
     "name": "stdout",
     "output_type": "stream",
     "text": [
      "total of num is 300 and average is 50.0\n"
     ]
    }
   ],
   "source": [
    "maths_number =int(input(\"enter maths num\"))\n",
    "hindi_num = int(input(\"enter hindi num\"))\n",
    "physics_num = int(input(\"enter physics num\"))\n",
    "sanskrit_num = int(input(\"enter sanskrit num\"))\n",
    "english_num = int(input(\"enter english num\"))\n",
    "social_science_num = int(input(\"enter social scince num\"))\n",
    "total =maths_number + hindi_num + physics_num + sanskrit_num + english_num+social_science_num\n",
    "average = total /6\n",
    "print(f'total of num is {total} and average is {average}')\n"
   ]
  },
  {
   "cell_type": "code",
   "execution_count": null,
   "metadata": {},
   "outputs": [],
   "source": []
  }
 ],
 "metadata": {
  "kernelspec": {
   "display_name": "Python 3.8.10 64-bit",
   "language": "python",
   "name": "python3"
  },
  "language_info": {
   "codemirror_mode": {
    "name": "ipython",
    "version": 3
   },
   "file_extension": ".py",
   "mimetype": "text/x-python",
   "name": "python",
   "nbconvert_exporter": "python",
   "pygments_lexer": "ipython3",
   "version": "3.8.10"
  },
  "orig_nbformat": 4,
  "vscode": {
   "interpreter": {
    "hash": "e7370f93d1d0cde622a1f8e1c04877d8463912d04d973331ad4851f04de6915a"
   }
  }
 },
 "nbformat": 4,
 "nbformat_minor": 2
}

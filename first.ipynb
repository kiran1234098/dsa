{
  "nbformat": 4,
  "nbformat_minor": 0,
  "metadata": {
    "colab": {
      "provenance": [],
      "authorship_tag": "ABX9TyPUkHmwT8bnj9sZ2Zj6zqqU",
      "include_colab_link": true
    },
    "kernelspec": {
      "name": "python3",
      "display_name": "Python 3"
    },
    "language_info": {
      "name": "python"
    }
  },
  "cells": [
    {
      "cell_type": "markdown",
      "metadata": {
        "id": "view-in-github",
        "colab_type": "text"
      },
      "source": [
        "<a href=\"https://colab.research.google.com/github/kiran1234098/dsa/blob/main/first.ipynb\" target=\"_parent\"><img src=\"https://colab.research.google.com/assets/colab-badge.svg\" alt=\"Open In Colab\"/></a>"
      ]
    },
    {
      "cell_type": "code",
      "execution_count": 1,
      "metadata": {
        "colab": {
          "base_uri": "https://localhost:8080/"
        },
        "id": "R_y9Di0Miz35",
        "outputId": "1bcd5c7e-6363-48e8-cb23-6de4e1ea6f22"
      },
      "outputs": [
        {
          "output_type": "stream",
          "name": "stdout",
          "text": [
            "number3\n",
            " \n",
            "* * *  \n",
            "* * *  \n",
            "* * *  \n"
          ]
        }
      ],
      "source": [
        "#code\n",
        "\n",
        "a =int(input(\"number\"))\n",
        "print(\" \")\n",
        "for i in range(a):\n",
        "    for j in range(a):\n",
        "        print(\"*\", end=\" \")\n",
        "    print(\" \") \n",
        "    "
      ]
    },
    {
      "cell_type": "code",
      "source": [
        "a =int(input(\"number\"))\n",
        "print(\" \")\n",
        "p=1\n",
        "for i in range(a):\n",
        "  for j in range(p):\n",
        "    \n",
        "    print(\"*\",end=\" \")\n",
        "    \n",
        "    \n",
        "  print(\" \")\n",
        "  p=p+1\n"
      ],
      "metadata": {
        "colab": {
          "base_uri": "https://localhost:8080/"
        },
        "id": "6ip7BTzqpJPd",
        "outputId": "c4a78cf8-f99d-40b3-f8e9-671df7bc9310"
      },
      "execution_count": 10,
      "outputs": [
        {
          "output_type": "stream",
          "name": "stdout",
          "text": [
            "number5\n",
            " \n",
            "*  \n",
            "* *  \n",
            "* * *  \n",
            "* * * *  \n",
            "* * * * *  \n"
          ]
        }
      ]
    },
    {
      "cell_type": "code",
      "source": [
        "a =int(input(\"number\"))\n",
        "print(\" \")\n",
        "p=r=1\n",
        "for i in range(a):\n",
        "  for j in range(p):\n",
        "    \n",
        "    print(r,end=\" \")\n",
        "    r=r+1\n",
        "    \n",
        "    \n",
        "  print(\" \")\n",
        "  p=p+1"
      ],
      "metadata": {
        "colab": {
          "base_uri": "https://localhost:8080/"
        },
        "id": "gY3e48JMum5q",
        "outputId": "ebaf2922-089d-4e75-a957-dba15499a8fc"
      },
      "execution_count": 13,
      "outputs": [
        {
          "output_type": "stream",
          "name": "stdout",
          "text": [
            "number10\n",
            " \n",
            "1  \n",
            "2 3  \n",
            "4 5 6  \n",
            "7 8 9 10  \n",
            "11 12 13 14 15  \n",
            "16 17 18 19 20 21  \n",
            "22 23 24 25 26 27 28  \n",
            "29 30 31 32 33 34 35 36  \n",
            "37 38 39 40 41 42 43 44 45  \n",
            "46 47 48 49 50 51 52 53 54 55  \n"
          ]
        }
      ]
    },
    {
      "cell_type": "code",
      "source": [
        "a =int(input(\"number\"))\n",
        "print(\" \")\n",
        "p=r=1\n",
        "for i in range(a):\n",
        "  for j in range(p):\n",
        "    \n",
        "    print(j+1,end=\" \")\n",
        "    r=r+1\n",
        "    \n",
        "    \n",
        "  print(\" \")\n",
        "  p=p+1"
      ],
      "metadata": {
        "colab": {
          "base_uri": "https://localhost:8080/"
        },
        "id": "uNngvUhkv-Y6",
        "outputId": "dae17d76-12f2-40a0-be9a-2124355c3b32"
      },
      "execution_count": 16,
      "outputs": [
        {
          "output_type": "stream",
          "name": "stdout",
          "text": [
            "number10\n",
            " \n",
            "1  \n",
            "1 2  \n",
            "1 2 3  \n",
            "1 2 3 4  \n",
            "1 2 3 4 5  \n",
            "1 2 3 4 5 6  \n",
            "1 2 3 4 5 6 7  \n",
            "1 2 3 4 5 6 7 8  \n",
            "1 2 3 4 5 6 7 8 9  \n",
            "1 2 3 4 5 6 7 8 9 10  \n"
          ]
        }
      ]
    },
    {
      "cell_type": "code",
      "source": [
        "a =int(input(\"number\"))\n",
        "print(\" \")\n",
        "p=r=1\n",
        "for i in range(a):\n",
        "  for j in range(p):\n",
        "    \n",
        "    print(p,end=\" \")\n",
        "    r=r+1\n",
        "    \n",
        "    \n",
        "  print(\" \")\n",
        "  p=p+1"
      ],
      "metadata": {
        "colab": {
          "base_uri": "https://localhost:8080/"
        },
        "id": "H4qPH75mwqiT",
        "outputId": "e77c8d06-f288-489a-95ca-94b7d46969c3"
      },
      "execution_count": 18,
      "outputs": [
        {
          "output_type": "stream",
          "name": "stdout",
          "text": [
            "number10\n",
            " \n",
            "1  \n",
            "2 2  \n",
            "3 3 3  \n",
            "4 4 4 4  \n",
            "5 5 5 5 5  \n",
            "6 6 6 6 6 6  \n",
            "7 7 7 7 7 7 7  \n",
            "8 8 8 8 8 8 8 8  \n",
            "9 9 9 9 9 9 9 9 9  \n",
            "10 10 10 10 10 10 10 10 10 10  \n"
          ]
        }
      ]
    },
    {
      "cell_type": "code",
      "source": [
        "a = int(input(\"number\"))\n",
        "b=a\n",
        "for i in range(a):\n",
        "  for j in range(b):\n",
        "    print(\"*\",end=\" \")\n",
        "    \n",
        "  print(\" \")\n",
        "  b=b-1  \n"
      ],
      "metadata": {
        "colab": {
          "base_uri": "https://localhost:8080/"
        },
        "id": "awKwqNhIxF2m",
        "outputId": "b9255473-d4ba-4cc7-a2f0-ce803b14a763"
      },
      "execution_count": 22,
      "outputs": [
        {
          "output_type": "stream",
          "name": "stdout",
          "text": [
            "number15\n",
            "* * * * * * * * * * * * * * *  \n",
            "* * * * * * * * * * * * * *  \n",
            "* * * * * * * * * * * * *  \n",
            "* * * * * * * * * * * *  \n",
            "* * * * * * * * * * *  \n",
            "* * * * * * * * * *  \n",
            "* * * * * * * * *  \n",
            "* * * * * * * *  \n",
            "* * * * * * *  \n",
            "* * * * * *  \n",
            "* * * * *  \n",
            "* * * *  \n",
            "* * *  \n",
            "* *  \n",
            "*  \n"
          ]
        }
      ]
    },
    {
      "cell_type": "code",
      "source": [
        "a = int(input(\"number\"))\n",
        "b=a\n",
        "for i in range(a):\n",
        "  for j in range(b):\n",
        "    print(j+1,end=\" \")\n",
        "    \n",
        "  print(\" \")\n",
        "  b=b-1  "
      ],
      "metadata": {
        "colab": {
          "base_uri": "https://localhost:8080/"
        },
        "id": "aQKkQlFfzDnu",
        "outputId": "621656ff-46ec-49c6-ed0b-ecfe07c92ba5"
      },
      "execution_count": 23,
      "outputs": [
        {
          "output_type": "stream",
          "name": "stdout",
          "text": [
            "number5\n",
            "1 2 3 4 5  \n",
            "1 2 3 4  \n",
            "1 2 3  \n",
            "1 2  \n",
            "1  \n"
          ]
        }
      ]
    },
    {
      "cell_type": "code",
      "source": [
        "a =int(input(\"number\"))\n",
        "c=a-1\n",
        "s=1\n",
        "\n",
        "for i in range(a):\n",
        "  for j in range(c):\n",
        "    print(\"\",end=\" \")\n",
        "  for k in range(s) :\n",
        "    print(\"*\",end=\"\")\n",
        "\n",
        "  c=c-1\n",
        "  s=s+2   \n",
        "\n",
        "\n",
        "\n",
        "\n",
        "  print(\" \")    \n",
        "    "
      ],
      "metadata": {
        "colab": {
          "base_uri": "https://localhost:8080/"
        },
        "id": "XZlKf50Uz3uI",
        "outputId": "bd8f0e24-db06-4d7a-bd63-81db0686e2f5"
      },
      "execution_count": 25,
      "outputs": [
        {
          "output_type": "stream",
          "name": "stdout",
          "text": [
            "number5\n",
            "    * \n",
            "   *** \n",
            "  ***** \n",
            " ******* \n",
            "********* \n"
          ]
        }
      ]
    }
  ]
}